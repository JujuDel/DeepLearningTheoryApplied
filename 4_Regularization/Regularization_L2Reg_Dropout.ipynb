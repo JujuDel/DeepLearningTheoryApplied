{
 "cells": [
  {
   "cell_type": "markdown",
   "metadata": {},
   "source": [
    "# Regularization: L2 Regularization and Dropout\n",
    "\n",
    "In this notebook, we'll still use the same kind of neural network:\n",
    "\n",
    "<img src=\"../2_L-LayerNN/images/NN.png\">\n",
    "\n",
    "But as we overfitted our training set, this time we'll improve it by using **L2 Regularization** and **Dropout** in our deep learning model.\n",
    "\n",
    "Actually, we won't improve the results that much as the training set is quite small. Later on, we'll also try data augmentation.\n",
    "\n",
    "## What to do?\n",
    "\n",
    "At the end of this notebook, we'll start again the cat example using the regularization techniques.\n",
    "\n",
    "## Organization of this Notebook \n",
    "    1. Packages\n",
    "    2. Import of images\n",
    "    3. L2 Regularization\n",
    "    4. Model construction with L2 Regularization technique\n",
    "    5. Dropout\n",
    "    6. Model construction with Dropout technique"
   ]
  },
  {
   "cell_type": "markdown",
   "metadata": {},
   "source": [
    "## 1 - Packages ##\n",
    "\n",
    "- [numpy](www.numpy.org): the fundamental package for scientific computing with Python.\n",
    "- [h5py](http://www.h5py.org): a common package to interact with a dataset that is stored on an H5 file.\n",
    "- [matplotlib](http://matplotlib.org): a famous library to plot graphs in Python.\n",
    "- [L_NN](L_NN.py): my own L-layer Neural Network implementation"
   ]
  },
  {
   "cell_type": "code",
   "execution_count": 1,
   "metadata": {},
   "outputs": [
    {
     "name": "stderr",
     "output_type": "stream",
     "text": [
      "C:\\Program Files (x86)\\Microsoft Visual Studio\\Shared\\Anaconda3_64\\lib\\site-packages\\h5py\\__init__.py:36: FutureWarning: Conversion of the second argument of issubdtype from `float` to `np.floating` is deprecated. In future, it will be treated as `np.float64 == np.dtype(float).type`.\n",
      "  from ._conv import register_converters as _register_converters\n"
     ]
    }
   ],
   "source": [
    "import numpy as np\n",
    "import h5py\n",
    "import matplotlib.pyplot as plt\n",
    "from L_NN import sigmoid, d_sigmoid, ReLU, d_ReLU\n",
    "from L_NN import initialize, globalForwardPropagation, computeCost, predict, updateParameters, model, try_decision\n",
    "from py_utils import load_dataset # Copy/pasted loader\n",
    "\n",
    "%matplotlib inline"
   ]
  },
  {
   "cell_type": "markdown",
   "metadata": {},
   "source": [
    "## 2- Import of images ##"
   ]
  },
  {
   "cell_type": "code",
   "execution_count": 2,
   "metadata": {},
   "outputs": [],
   "source": [
    "training_imgLoaded, training_label, testing_imgLoaded, testing_label, classes = load_dataset()"
   ]
  },
  {
   "cell_type": "markdown",
   "metadata": {},
   "source": [
    "Here, we reshape and normalize the images to have a $(height*width*3 \\text{ x } 1)$ matrix with pixels values between $0$ and $1$."
   ]
  },
  {
   "cell_type": "code",
   "execution_count": 3,
   "metadata": {},
   "outputs": [],
   "source": [
    "training_img = training_imgLoaded.reshape(training_imgLoaded.shape[0], -1).T / 255.\n",
    "testing_img = testing_imgLoaded.reshape(testing_imgLoaded.shape[0], -1).T / 255."
   ]
  },
  {
   "cell_type": "code",
   "execution_count": 4,
   "metadata": {},
   "outputs": [
    {
     "name": "stdout",
     "output_type": "stream",
     "text": [
      "Number of pixels: 12288\n",
      "Number of training data: 209\n"
     ]
    }
   ],
   "source": [
    "print(\"Number of pixels: %i\" %(training_img.shape[0]))\n",
    "print(\"Number of training data: %i\" %(training_img.shape[1]))"
   ]
  },
  {
   "cell_type": "markdown",
   "metadata": {},
   "source": [
    "## 3 - L2 Regularization ##\n",
    "\n",
    "**L2 regularization** consists of modifying the cost function from:\n",
    "$$J = -\\frac{1}{m} \\sum\\limits_{i = 1}^{m} \\, y^{(i)}log(a^{[L](i)}) + (1-y^{(i)})log(1- a^{[L](i)}) \\tag{1}$$\n",
    "To:\n",
    "$$J_{regularized} = J + \\frac{1}{m} \\frac{\\lambda}{2} \\sum\\limits_l\\sum\\limits_k\\sum\\limits_j W_{k,j}^{[l]2} \\tag{2}$$"
   ]
  },
  {
   "cell_type": "code",
   "execution_count": 5,
   "metadata": {},
   "outputs": [],
   "source": [
    "def computeCostRegularized(parameters, AL, Y, lambd):\n",
    "    \n",
    "    usualCost = -np.sum(Y * np.log(AL) + (1 - Y) * np.log(1 - AL)) / Y.shape[1]\n",
    "    \n",
    "    L2_cost = 0\n",
    "    L = len(parameters) // 3\n",
    "    for l in range(L):\n",
    "        L2_cost = L2_cost + np.sum(np.square(parameters['W' + str(l+1)]))\n",
    "        \n",
    "    L2_cost = lambd * L2_cost / (2 * m)\n",
    "    \n",
    "    return np.squeeze(usualCost + L2_cost)"
   ]
  },
  {
   "cell_type": "markdown",
   "metadata": {},
   "source": [
    "The derivatives are now also modified by taking in acount $\\frac{\\partial}{\\partial W^{[l]}} (\\frac{1}{m} \\frac{\\lambda}{2} \\sum\\limits_l\\sum\\limits_k\\sum\\limits_j W_{k,j}^{[l]2})$ for each layer l.\n",
    "\n",
    "Therefore, we go from:\n",
    "$$\\frac{\\partial J}{\\partial W^{[l]}} = dZ^{[l]} \\; A^{[l-1]}\\tag{3}$$\n",
    "\n",
    "To:\n",
    "$$\\frac{\\partial J}{\\partial W^{[l]}} = dZ^{[l]} \\; A^{[l-1]} + \\frac{\\lambda}{m} W^{[l]}\\tag{4}$$\n",
    "\n",
    "L2-regularization relies on the assumption that a model with small weights is simpler than a model with large weights. Thus, by penalizing the square values of the weights in the cost function you drive all the weights to smaller values. It becomes too costly for the cost to have large weights! This leads to a smoother model in which the output changes more slowly as the input changes."
   ]
  },
  {
   "cell_type": "code",
   "execution_count": 6,
   "metadata": {},
   "outputs": [],
   "source": [
    "def backwardPropagationL2Regularized(W_l, Z_l, dA_l, A_l1, actFunction, lambd):\n",
    "    \n",
    "    if actFunction == \"sigmoid\":\n",
    "        dZ_l = dA_l * d_sigmoid(Z_l)\n",
    "    elif actFunction == \"tanh\":\n",
    "        dZ_l = dA_l * d_tanh(Z_l)\n",
    "    elif actFunction == \"ReLU\":\n",
    "        dZ_l = dA_l * d_ReLU(Z_l)\n",
    "    elif actFunction == \"LReLU\":\n",
    "        dZ_l = dA_l * d_LReLU(Z_l)\n",
    "    \n",
    "    dW_l = np.dot(dZ_l, A_l1.T) / A_l1.shape[1] + lambd * W_l / A_l1.shape[1]\n",
    "    db_l = np.sum(dZ_l, axis = 1, keepdims = True) / A_l1.shape[1]\n",
    "    dA_l1 = np.dot(W_l.T, dZ_l)\n",
    "    \n",
    "    assert(dA_l1.shape == A_l1.shape)\n",
    "    assert(dW_l.shape == W_l.shape)\n",
    "    \n",
    "    return dA_l1, dW_l, db_l\n",
    "\n",
    "def globalBackwardPropagationL2Regularized(Y, Zs, As, parameters, lambd):\n",
    "    grads = {}\n",
    "    L = len(Zs)\n",
    "    \n",
    "    # Zs from 1 to L and As from 0 to L\n",
    "    assert(len(Zs) + 1 == len(As))\n",
    "    \n",
    "    # Initializing the backpropagation\n",
    "    AL = As[L]\n",
    "    Y = Y.reshape((AL.shape))\n",
    "    dA_l1 = - (np.divide(Y, AL) - np.divide(1 - Y, 1 - AL))\n",
    "    \n",
    "    assert(dA_l1.shape == AL.shape)\n",
    "\n",
    "    # From l=L-1 to l=0, outbox included\n",
    "    for l in reversed(range(L)):\n",
    "        dA_l1, dW_l, dB_l = backwardPropagationL2Regularized(parameters[\"W\" + str(l+1)], Zs[l], dA_l1, As[l], parameters[\"F\" + str(l+1)], lambd)\n",
    "        grads[\"dW\" + str(l + 1)] = dW_l\n",
    "        grads[\"db\" + str(l + 1)] = dB_l\n",
    "    return grads"
   ]
  },
  {
   "cell_type": "markdown",
   "metadata": {},
   "source": [
    "## 4 - Model construction with L2 Regularization technique ##\n",
    "\n",
    "Let know try with our cat training and test sets"
   ]
  },
  {
   "cell_type": "code",
   "execution_count": 21,
   "metadata": {},
   "outputs": [],
   "source": [
    "def modelL2Regularized(X, Y, X_test, Y_test, layers_dims, actFunctions, learning_rate = 0.0008, num_iterations = 5000, lambd = 0.7, print_cost = False):\n",
    "    # Initialize the weights and the bias\n",
    "    parameters = initialize(layers_dims, actFunctions, print_Dim = print_cost)\n",
    "    \n",
    "    costs = []\n",
    "    \n",
    "    for i in range(0, num_iterations):\n",
    "\n",
    "        Zs, As, AL = globalForwardPropagation(X, parameters)\n",
    "        \n",
    "        epoch_cost = computeCost(AL, Y)\n",
    "        \n",
    "        grads = globalBackwardPropagationL2Regularized(Y, Zs, As, parameters, lambd)\n",
    "        \n",
    "        parameters = updateParameters(parameters, grads, learning_rate)\n",
    "                \n",
    "        # Print the cost every 100 training example\n",
    "        if print_cost:\n",
    "            if i % 100 == 0:\n",
    "                print (\"Cost after iteration %i: %f\" %(i, epoch_cost))\n",
    "            if i % 5 == 0:\n",
    "                costs.append(epoch_cost)\n",
    "    \n",
    "    if print_cost:\n",
    "        plt.plot(np.squeeze(costs))\n",
    "        plt.ylabel('cost')\n",
    "        plt.xlabel('iterations (per tens)')\n",
    "        plt.title(\"Learning rate = \" + str(learning_rate))\n",
    "        plt.show()\n",
    "    \n",
    "    # Test the model\n",
    "    Y_prediction = predict(parameters, X)\n",
    "    print(\"train accuracy: \"  + str(np.sum( (Y_prediction == Y) / Y.shape[1] )))\n",
    "    \n",
    "    Y_prediction_test = predict(parameters, X_test)\n",
    "    print(\"test accuracy: \"  + str(np.sum( (Y_prediction_test == Y_test) / Y_test.shape[1] )))\n",
    "    \n",
    "    return parameters"
   ]
  },
  {
   "cell_type": "code",
   "execution_count": 8,
   "metadata": {},
   "outputs": [],
   "source": [
    "layerDims = [12288, 20, 7, 5, 1]\n",
    "actFunctions =  [\"ReLU\", \"ReLU\", \"ReLU\", \"sigmoid\"]"
   ]
  },
  {
   "cell_type": "code",
   "execution_count": 9,
   "metadata": {},
   "outputs": [
    {
     "name": "stdout",
     "output_type": "stream",
     "text": [
      "Cost after epoch 0: 0.878398\n",
      "Cost after epoch 100: 0.635645\n",
      "Cost after epoch 200: 0.581357\n",
      "Cost after epoch 300: 0.530318\n",
      "Cost after epoch 400: 0.481720\n",
      "Cost after epoch 500: 0.443488\n",
      "Cost after epoch 600: 0.409171\n",
      "Cost after epoch 700: 0.379190\n",
      "Cost after epoch 800: 0.353856\n",
      "Cost after epoch 900: 0.330413\n",
      "Cost after epoch 1000: 0.308823\n",
      "Cost after epoch 1100: 0.289387\n",
      "Cost after epoch 1200: 0.269469\n",
      "Cost after epoch 1300: 0.251870\n",
      "Cost after epoch 1400: 0.235074\n",
      "Cost after epoch 1500: 0.220167\n",
      "Cost after epoch 1600: 0.205796\n",
      "Cost after epoch 1700: 0.192900\n",
      "Cost after epoch 1800: 0.181048\n",
      "Cost after epoch 1900: 0.170122\n",
      "Cost after epoch 2000: 0.159468\n",
      "Cost after epoch 2100: 0.149732\n",
      "Cost after epoch 2200: 0.140174\n",
      "Cost after epoch 2300: 0.129879\n",
      "Cost after epoch 2400: 0.120126\n",
      "Cost after epoch 2500: 0.111336\n",
      "Cost after epoch 2600: 0.103495\n",
      "Cost after epoch 2700: 0.096398\n",
      "Cost after epoch 2800: 0.090162\n",
      "Cost after epoch 2900: 0.084335\n",
      "Cost after epoch 3000: 0.079130\n",
      "Cost after epoch 3100: 0.074193\n",
      "Cost after epoch 3200: 0.069894\n",
      "Cost after epoch 3300: 0.065783\n",
      "Cost after epoch 3400: 0.062188\n",
      "Cost after epoch 3500: 0.058727\n",
      "Cost after epoch 3600: 0.055591\n",
      "Cost after epoch 3700: 0.052736\n",
      "Cost after epoch 3800: 0.050085\n",
      "Cost after epoch 3900: 0.047655\n",
      "Cost after epoch 4000: 0.045352\n",
      "Cost after epoch 4100: 0.043229\n",
      "Cost after epoch 4200: 0.041271\n",
      "Cost after epoch 4300: 0.039429\n",
      "Cost after epoch 4400: 0.037660\n",
      "Cost after epoch 4500: 0.036078\n",
      "Cost after epoch 4600: 0.034631\n",
      "Cost after epoch 4700: 0.033235\n",
      "Cost after epoch 4800: 0.031927\n",
      "Cost after epoch 4900: 0.030722\n"
     ]
    },
    {
     "data": {
      "image/png": "[encoded data removed]",
      "text/plain": [
       "<Figure size 432x288 with 1 Axes>"
      ]
     },
     "metadata": {},
     "output_type": "display_data"
    },
    {
     "name": "stdout",
     "output_type": "stream",
     "text": [
      "train accuracy: 0.9999999999999998\n",
      "test accuracy: 0.76\n"
     ]
    }
   ],
   "source": [
    "parametersNonRegularized = model(training_img, training_label, testing_img, testing_label, layerDims, actFunctions, print_cost = True)"
   ]
  },
  {
   "cell_type": "code",
   "execution_count": 22,
   "metadata": {},
   "outputs": [
    {
     "name": "stdout",
     "output_type": "stream",
     "text": [
      "number of Layers: 4\n",
      "  1 / W(20, 12288) / b(20, 1) / ReLU\n",
      "  2 / W(7, 20) / b(7, 1) / ReLU\n",
      "  3 / W(5, 7) / b(5, 1) / ReLU\n",
      "  4 / W(1, 5) / b(1, 1) / sigmoid\n",
      "\n",
      "Cost after iteration 0: 1.135281\n",
      "Cost after iteration 100: 0.653870\n",
      "Cost after iteration 200: 0.636635\n",
      "Cost after iteration 300: 0.623942\n",
      "Cost after iteration 400: 0.611846\n",
      "Cost after iteration 500: 0.600340\n",
      "Cost after iteration 600: 0.589639\n",
      "Cost after iteration 700: 0.578361\n",
      "Cost after iteration 800: 0.565494\n",
      "Cost after iteration 900: 0.552095\n",
      "Cost after iteration 1000: 0.538585\n",
      "Cost after iteration 1100: 0.525019\n",
      "Cost after iteration 1200: 0.511311\n",
      "Cost after iteration 1300: 0.497383\n",
      "Cost after iteration 1400: 0.483409\n",
      "Cost after iteration 1500: 0.469403\n",
      "Cost after iteration 1600: 0.455015\n",
      "Cost after iteration 1700: 0.440892\n",
      "Cost after iteration 1800: 0.426600\n",
      "Cost after iteration 1900: 0.412190\n",
      "Cost after iteration 2000: 0.397925\n",
      "Cost after iteration 2100: 0.383600\n",
      "Cost after iteration 2200: 0.368465\n",
      "Cost after iteration 2300: 0.352921\n",
      "Cost after iteration 2400: 0.337335\n",
      "Cost after iteration 2500: 0.321271\n",
      "Cost after iteration 2600: 0.305950\n",
      "Cost after iteration 2700: 0.290199\n",
      "Cost after iteration 2800: 0.274959\n",
      "Cost after iteration 2900: 0.261626\n",
      "Cost after iteration 3000: 0.248614\n",
      "Cost after iteration 3100: 0.236208\n",
      "Cost after iteration 3200: 0.224080\n",
      "Cost after iteration 3300: 0.213001\n",
      "Cost after iteration 3400: 0.202135\n",
      "Cost after iteration 3500: 0.192121\n",
      "Cost after iteration 3600: 0.183092\n",
      "Cost after iteration 3700: 0.174005\n",
      "Cost after iteration 3800: 0.165081\n",
      "Cost after iteration 3900: 0.157190\n",
      "Cost after iteration 4000: 0.150295\n",
      "Cost after iteration 4100: 0.142695\n",
      "Cost after iteration 4200: 0.136285\n",
      "Cost after iteration 4300: 0.130008\n",
      "Cost after iteration 4400: 0.124185\n",
      "Cost after iteration 4500: 0.118805\n",
      "Cost after iteration 4600: 0.113383\n",
      "Cost after iteration 4700: 0.108593\n",
      "Cost after iteration 4800: 0.103566\n",
      "Cost after iteration 4900: 0.099168\n"
     ]
    },
    {
     "data": {
      "image/png": "[encoded data removed]",
      "text/plain": [
       "<Figure size 432x288 with 1 Axes>"
      ]
     },
     "metadata": {},
     "output_type": "display_data"
    },
    {
     "name": "stdout",
     "output_type": "stream",
     "text": [
      "train accuracy: 0.9856459330143539\n",
      "test accuracy: 0.78\n"
     ]
    }
   ],
   "source": [
    "parametersL2Regularized = modelL2Regularized(training_img, training_label, testing_img, testing_label, layerDims, actFunctions, lambd = 2.8, print_cost = True)"
   ]
  },
  {
   "cell_type": "code",
   "execution_count": 27,
   "metadata": {},
   "outputs": [
    {
     "name": "stdout",
     "output_type": "stream",
     "text": [
      "TRAINING SET, nonRegularized:\n",
      "Accuracy: 0.9999999999999998\n",
      "TRAINING SET, L2Regularized:\n",
      "Accuracy: 0.9856459330143539\n"
     ]
    }
   ],
   "source": [
    "print(\"TRAINING SET, nonRegularized:\")\n",
    "try_decision(parametersNonRegularized, training_imgLoaded, training_label, display_img = False)\n",
    "\n",
    "print(\"TRAINING SET, L2Regularized:\")\n",
    "try_decision(parametersL2Regularized, training_imgLoaded, training_label, display_img = False)"
   ]
  },
  {
   "cell_type": "code",
   "execution_count": 28,
   "metadata": {},
   "outputs": [
    {
     "name": "stdout",
     "output_type": "stream",
     "text": [
      "TESTING SET, nonRegularized:\n",
      "Accuracy: 0.76\n",
      "TESTING SET, L2Regularized:\n",
      "Accuracy: 0.78\n"
     ]
    }
   ],
   "source": [
    "print(\"TESTING SET, nonRegularized:\")\n",
    "try_decision(parametersNonRegularized, testing_imgLoaded, testing_label, display_img = False)\n",
    "\n",
    "print(\"TESTING SET, L2Regularized:\")\n",
    "try_decision(parametersL2Regularized, testing_imgLoaded, testing_label, display_img = False)"
   ]
  },
  {
   "cell_type": "markdown",
   "metadata": {},
   "source": [
    "## 3 - Dropout ##\n",
    "\n",
    "**Dropout** is a technique specific to deep learning: it randomly shuts down some neurons in each iteration.\n",
    "\n",
    "At each iteration, the idea is to shut down each neuron of a layer $[l]$ with a probability $1 - keep\\_prob^{[l]}$ or keep it with a probability $keep\\_prob^{[l]}$. The dropped neurons don't contribute to the training in both the forward and backward propagations of the iteration.\n",
    "\n",
    "<img src=\"images/Dropout.png\">"
   ]
  },
  {
   "cell_type": "code",
   "execution_count": 13,
   "metadata": {},
   "outputs": [],
   "source": [
    "def forwardPropagationRegularized(W, b, previousA, actFunction, keep_prob):\n",
    "    Z = np.dot(W, previousA) + b\n",
    "    \n",
    "    assert(Z.shape == (W.shape[0], previousA.shape[1]))\n",
    "    \n",
    "    if actFunction == \"sigmoid\":\n",
    "        A = sigmoid(Z)\n",
    "    elif actFunction == \"tanh\":\n",
    "        A = tanh(Z)\n",
    "    elif actFunction == \"ReLU\":\n",
    "        A = ReLU(Z)\n",
    "    elif actFunction ==\"LReLU\":\n",
    "        A = LReLU(Z)\n",
    "    \n",
    "    Keeper = np.random.rand(A.shape[0], A.shape[1])\n",
    "    Keeper = (Keeper < keep_prob)\n",
    "    A = A * Keeper\n",
    "    A = A / keep_prob\n",
    "    \n",
    "    assert (A.shape == Z.shape)\n",
    "    return Z, A, Keeper\n",
    "\n",
    "def globalForwardPropagationRegularized(X, parameters, keep_probs):\n",
    "    Zs = []\n",
    "    As = [X]\n",
    "    Keeps = [np.ones((X.shape[0], 1))]\n",
    "    A = X\n",
    "    L = len(parameters) // 3\n",
    "    \n",
    "    for l in range(L):\n",
    "        A_prev = A\n",
    "        Z, A, Keeper = forwardPropagationRegularized(parameters['W'+str(l+1)], parameters['b'+str(l+1)], A_prev, parameters['F'+str(l+1)], keep_probs[l+1])\n",
    "        Zs = Zs + [Z]\n",
    "        As = As + [A]\n",
    "        Keeps = Keeps + [Keeper]\n",
    "    \n",
    "    assert(len(Keeps) == len(As))\n",
    "    \n",
    "    return Zs, As, Keeps, A"
   ]
  },
  {
   "cell_type": "code",
   "execution_count": 14,
   "metadata": {},
   "outputs": [],
   "source": [
    "def globalBackwardPropagationRegularized(Y, Zs, As, parameters, lambd, Keeps, keep_probs):\n",
    "    grads = {}\n",
    "    L = len(Zs)\n",
    "    \n",
    "    # Zs from 1 to L and As from 0 to L\n",
    "    assert(len(Zs) + 1 == len(As))\n",
    "    \n",
    "    # Dropout applied only on the hidden units and sometimes on the output units\n",
    "    assert(len(As) == len(Keeps))\n",
    "    \n",
    "    # Initializing the backpropagation\n",
    "    AL = As[L]\n",
    "    Y = Y.reshape((AL.shape))\n",
    "    dA_l1 = - (np.divide(Y, AL) - np.divide(1 - Y, 1 - AL))\n",
    "    \n",
    "    assert(dA_l1.shape == AL.shape)\n",
    "\n",
    "    # From l=L-1 to l=0, outbox included\n",
    "    for l in reversed(range(L)):\n",
    "        dA_l1, dW_l, dB_l = backwardPropagationL2Regularized(parameters[\"W\" + str(l+1)], Zs[l], dA_l1, As[l], parameters[\"F\" + str(l+1)], lambd)\n",
    "        \n",
    "        grads[\"dW\" + str(l + 1)] = dW_l\n",
    "        grads[\"db\" + str(l + 1)] = dB_l\n",
    "        \n",
    "        dA_l1 = dA_l1 * Keeps[l]\n",
    "        dA_l1 = dA_l1 / keep_probs[l]\n",
    "        \n",
    "    return grads"
   ]
  },
  {
   "cell_type": "markdown",
   "metadata": {},
   "source": [
    "## 5 - Model construction with Dropout technique ##\n",
    "\n",
    "Let know try with our cat training and test sets"
   ]
  },
  {
   "cell_type": "code",
   "execution_count": 15,
   "metadata": {},
   "outputs": [],
   "source": [
    "def modelRegularized(X, Y, X_test, Y_test, layers_dims, actFunctions, keep_probs, learning_rate = 0.0008, num_iterations = 5000, lambd = 0.7, print_cost = False):\n",
    "    # Initialize the weights and the bias\n",
    "    parameters = initialize(layers_dims, actFunctions, print_Dim = print_cost)\n",
    "    \n",
    "    assert(len(layers_dims) == len(keep_probs))\n",
    "    \n",
    "    costs = []\n",
    "    \n",
    "    for i in range(0, num_iterations):\n",
    "\n",
    "        Zs, As, Keeps, AL = globalForwardPropagationRegularized(X, parameters, keep_probs)\n",
    "        \n",
    "        epoch_cost = computeCost(AL, Y)\n",
    "        \n",
    "        grads = globalBackwardPropagationRegularized(Y, Zs, As, parameters, lambd, Keeps, keep_probs)\n",
    "        \n",
    "        parameters = updateParameters(parameters, grads, learning_rate)\n",
    "                \n",
    "        # Print the cost every 100 training example\n",
    "        if print_cost:\n",
    "            if i % 100 == 0:\n",
    "                print (\"Cost after iteration %i: %f\" %(i, epoch_cost))\n",
    "            if i % 5 == 0:\n",
    "                costs.append(epoch_cost)\n",
    "    \n",
    "    if print_cost:\n",
    "        plt.plot(np.squeeze(costs))\n",
    "        plt.ylabel('cost')\n",
    "        plt.xlabel('iterations (per tens)')\n",
    "        plt.title(\"Learning rate = \" + str(learning_rate))\n",
    "        plt.show()\n",
    "    \n",
    "    # Test the model\n",
    "    Y_prediction = predict(parameters, X)\n",
    "    print(\"train accuracy: \"  + str(np.sum( (Y_prediction == Y) / Y.shape[1] )))\n",
    "    \n",
    "    Y_prediction_test = predict(parameters, X_test)\n",
    "    print(\"test accuracy: \"  + str(np.sum( (Y_prediction_test == Y_test) / Y_test.shape[1] )))\n",
    "    \n",
    "    return parameters"
   ]
  },
  {
   "cell_type": "code",
   "execution_count": 23,
   "metadata": {},
   "outputs": [],
   "source": [
    "layerDims = [12288, 20, 7, 5, 1]\n",
    "actFunctions =  [\"ReLU\", \"ReLU\", \"ReLU\", \"sigmoid\"]\n",
    "keep_probs = [1., 0.5, 0.7, 0.8, 1.]"
   ]
  },
  {
   "cell_type": "code",
   "execution_count": 24,
   "metadata": {},
   "outputs": [
    {
     "name": "stdout",
     "output_type": "stream",
     "text": [
      "number of Layers: 4\n",
      "  1 / W(20, 12288) / b(20, 1) / ReLU\n",
      "  2 / W(7, 20) / b(7, 1) / ReLU\n",
      "  3 / W(5, 7) / b(5, 1) / ReLU\n",
      "  4 / W(1, 5) / b(1, 1) / sigmoid\n",
      "\n",
      "Cost after iteration 0: 0.927189\n",
      "Cost after iteration 100: 0.673723\n",
      "Cost after iteration 200: 0.648060\n",
      "Cost after iteration 300: 0.690446\n",
      "Cost after iteration 400: 0.624318\n",
      "Cost after iteration 500: 0.656958\n",
      "Cost after iteration 600: 0.636732\n",
      "Cost after iteration 700: 0.615581\n",
      "Cost after iteration 800: 0.638166\n",
      "Cost after iteration 900: 0.607065\n",
      "Cost after iteration 1000: 0.652845\n",
      "Cost after iteration 1100: 0.603410\n",
      "Cost after iteration 1200: 0.595462\n",
      "Cost after iteration 1300: 0.594941\n",
      "Cost after iteration 1400: 0.585546\n",
      "Cost after iteration 1500: 0.555342\n",
      "Cost after iteration 1600: 0.574818\n",
      "Cost after iteration 1700: 0.580418\n",
      "Cost after iteration 1800: 0.554894\n",
      "Cost after iteration 1900: 0.549595\n",
      "Cost after iteration 2000: 0.522155\n",
      "Cost after iteration 2100: 0.535998\n",
      "Cost after iteration 2200: 0.530203\n",
      "Cost after iteration 2300: 0.530470\n",
      "Cost after iteration 2400: 0.534048\n",
      "Cost after iteration 2500: 0.510557\n",
      "Cost after iteration 2600: 0.524048\n",
      "Cost after iteration 2700: 0.509694\n",
      "Cost after iteration 2800: 0.506965\n",
      "Cost after iteration 2900: 0.468406\n",
      "Cost after iteration 3000: 0.507499\n",
      "Cost after iteration 3100: 0.478760\n",
      "Cost after iteration 3200: 0.480728\n",
      "Cost after iteration 3300: 0.515434\n",
      "Cost after iteration 3400: 0.485280\n",
      "Cost after iteration 3500: 0.468183\n",
      "Cost after iteration 3600: 0.444281\n",
      "Cost after iteration 3700: 0.450459\n",
      "Cost after iteration 3800: 0.483258\n",
      "Cost after iteration 3900: 0.467700\n",
      "Cost after iteration 4000: 0.452119\n",
      "Cost after iteration 4100: 0.463827\n",
      "Cost after iteration 4200: 0.457876\n",
      "Cost after iteration 4300: 0.421893\n",
      "Cost after iteration 4400: 0.408636\n",
      "Cost after iteration 4500: 0.439850\n",
      "Cost after iteration 4600: 0.405771\n",
      "Cost after iteration 4700: 0.429461\n",
      "Cost after iteration 4800: 0.426249\n",
      "Cost after iteration 4900: 0.417270\n"
     ]
    },
    {
     "data": {
      "image/png": "[encoded data removed]",
      "text/plain": [
       "<Figure size 432x288 with 1 Axes>"
      ]
     },
     "metadata": {},
     "output_type": "display_data"
    },
    {
     "name": "stdout",
     "output_type": "stream",
     "text": [
      "train accuracy: 0.9569377990430621\n",
      "test accuracy: 0.74\n"
     ]
    }
   ],
   "source": [
    "parametersRegularized = modelRegularized(training_img, training_label, testing_img, testing_label, layerDims, actFunctions, keep_probs, lambd = 0., print_cost = True)"
   ]
  },
  {
   "cell_type": "code",
   "execution_count": 25,
   "metadata": {},
   "outputs": [
    {
     "name": "stdout",
     "output_type": "stream",
     "text": [
      "TRAINING SET, nonRegularized:\n",
      "Accuracy: 0.9999999999999998\n",
      "TRAINING SET, Regularized:\n",
      "Accuracy: 0.9569377990430621\n"
     ]
    }
   ],
   "source": [
    "print(\"TRAINING SET, nonRegularized:\")\n",
    "try_decision(parametersNonRegularized, training_imgLoaded, training_label, display_img = False)\n",
    "\n",
    "print(\"TRAINING SET, Regularized:\")\n",
    "try_decision(parametersRegularized, training_imgLoaded, training_label, display_img = False)"
   ]
  },
  {
   "cell_type": "code",
   "execution_count": 26,
   "metadata": {},
   "outputs": [
    {
     "name": "stdout",
     "output_type": "stream",
     "text": [
      "TESTING SET, nonRegularized:\n",
      "Accuracy: 0.76\n",
      "TESTING SET, Regularized:\n",
      "Accuracy: 0.74\n"
     ]
    }
   ],
   "source": [
    "print(\"TESTING SET, nonRegularized:\")\n",
    "try_decision(parametersNonRegularized, testing_imgLoaded, testing_label, display_img = False)\n",
    "\n",
    "print(\"TESTING SET, Regularized:\")\n",
    "try_decision(parametersRegularized, testing_imgLoaded, testing_label, display_img = False)"
   ]
  }
 ],
 "metadata": {
  "kernelspec": {
   "display_name": "Python 3",
   "language": "python",
   "name": "python3"
  },
  "language_info": {
   "codemirror_mode": {
    "name": "ipython",
    "version": 3
   },
   "file_extension": ".py",
   "mimetype": "text/x-python",
   "name": "python",
   "nbconvert_exporter": "python",
   "pygments_lexer": "ipython3",
   "version": "3.6.5"
  }
 },
 "nbformat": 4,
 "nbformat_minor": 2
}
